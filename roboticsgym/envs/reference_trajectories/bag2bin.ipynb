{
 "cells": [
  {
   "cell_type": "code",
   "execution_count": 2,
   "metadata": {},
   "outputs": [
    {
     "name": "stdout",
     "output_type": "stream",
     "text": [
      "[INFO]  Successfully created the data folder _2024-04-22-20-38-27_0.\n"
     ]
    },
    {
     "data": {
      "text/plain": [
       "'_2024-04-22-20-38-27_0/digit_state.csv'"
      ]
     },
     "execution_count": 2,
     "metadata": {},
     "output_type": "execute_result"
    }
   ],
   "source": [
    "import bagpy\n",
    "from bagpy import bagreader\n",
    "\n",
    "# This block read in the bag file and save it as a csv file.\n",
    "# I didn't upload the bag file to github because it's too large.\n",
    "# The csv can be read in the next block.\n",
    "b = bagreader('_2024-04-22-20-38-27_0.bag')\n",
    "\n",
    "LASER_MSG = b.message_by_topic('/digit_state')\n",
    "LASER_MSG"
   ]
  },
  {
   "cell_type": "code",
   "execution_count": 6,
   "metadata": {},
   "outputs": [],
   "source": [
    "import scipy\n",
    "import numpy as np\n",
    "import pandas as pd\n",
    "digit_state_all = pd.read_csv('_2024-04-22-20-38-27_0/digit_state.csv')\n",
    "\n",
    "time_period = range(0,60000)\n",
    "position_full = digit_state_all.loc[time_period, 'position_full_0':'position_full_29']\n",
    "velocity_full = digit_state_all.loc[time_period,'velocity_full_0':'velocity_full_29']\n",
    "torque = digit_state_all.loc[time_period,'torque_0':'torque_19']\n",
    "base_position = digit_state_all.loc[time_period,'base_position_0':'base_position_2']\n",
    "base_velocity = digit_state_all.loc[time_period,'base_velocity_0':'base_velocity_2']\n",
    "\n",
    "# Generate csv that's not down sampled.\n",
    "pd.concat([position_full, velocity_full, torque, base_position, base_velocity], axis=1).to_csv('digit_state_20240422.csv', index=False)\n"
   ]
  },
  {
   "cell_type": "code",
   "execution_count": 4,
   "metadata": {},
   "outputs": [],
   "source": [
    "import scipy\n",
    "import numpy as np\n",
    "import pandas as pd\n",
    "digit_state_all = pd.read_csv('digit_state.csv')\n",
    "\n",
    "# This part of the trajectory is stable walking. The sample rate is 1000Hz.\n",
    "time_period = range(15000,25000)\n",
    "position_full = digit_state_all.loc[time_period, 'position_full_0':'position_full_29']\n",
    "# Generate a function that can be used to interpolate at any index.\n",
    "f = scipy.interpolate.interp1d(np.arange(15000,25000), position_full.to_numpy(), axis=0)\n",
    "# position_downsample = f(np.arange(15000,25000,2.5))\n",
    "position_downsample = pd.DataFrame(f(np.arange(15000,25000,2.5)), columns = position_full.keys()) # Downsample the trajectory from 1000Hz to 400Hz. 2.5 = 1000/400.\n",
    "\n",
    "velocity_full = digit_state_all.loc[time_period,'velocity_full_0':'velocity_full_29']\n",
    "f = scipy.interpolate.interp1d(np.arange(15000,25000), velocity_full.to_numpy(), axis=0)\n",
    "velocity_downsample = pd.DataFrame(f(np.arange(15000,25000,2.5)), columns = velocity_full.keys())\n",
    "\n",
    "torque = digit_state_all.loc[time_period,'torque_0':'torque_19']\n",
    "f = scipy.interpolate.interp1d(np.arange(15000,25000), torque.to_numpy(), axis=0)\n",
    "torque_downsample = pd.DataFrame(f(np.arange(15000,25000,2.5)), columns = torque.keys())\n",
    "\n",
    "base_position = digit_state_all.loc[time_period,'base_position_0':'base_position_2']\n",
    "f = scipy.interpolate.interp1d(np.arange(15000,25000), base_position.to_numpy(), axis=0)\n",
    "base_position_downsample = pd.DataFrame(f(np.arange(15000,25000,2.5)), columns = base_position.keys())\n",
    "\n",
    "base_velocity = digit_state_all.loc[time_period,'base_velocity_0':'base_velocity_2']\n",
    "f = scipy.interpolate.interp1d(np.arange(15000,25000), base_velocity.to_numpy(), axis=0)\n",
    "base_velocity_downsample = pd.DataFrame(f(np.arange(15000,25000,2.5)), columns = base_velocity.keys())\n",
    "\n",
    "pd.concat([position_downsample, velocity_downsample, torque_downsample, base_position_downsample, base_velocity_downsample], axis=1).to_csv('digit_state_downsample.csv', index=False)"
   ]
  },
  {
   "cell_type": "code",
   "execution_count": 7,
   "metadata": {},
   "outputs": [
    {
     "data": {
      "text/html": [
       "<div>\n",
       "<style scoped>\n",
       "    .dataframe tbody tr th:only-of-type {\n",
       "        vertical-align: middle;\n",
       "    }\n",
       "\n",
       "    .dataframe tbody tr th {\n",
       "        vertical-align: top;\n",
       "    }\n",
       "\n",
       "    .dataframe thead th {\n",
       "        text-align: right;\n",
       "    }\n",
       "</style>\n",
       "<table border=\"1\" class=\"dataframe\">\n",
       "  <thead>\n",
       "    <tr style=\"text-align: right;\">\n",
       "      <th></th>\n",
       "      <th>base_velocity_0</th>\n",
       "      <th>base_velocity_1</th>\n",
       "      <th>base_velocity_2</th>\n",
       "    </tr>\n",
       "  </thead>\n",
       "  <tbody>\n",
       "    <tr>\n",
       "      <th>0</th>\n",
       "      <td>0.401387</td>\n",
       "      <td>0.270018</td>\n",
       "      <td>-0.122184</td>\n",
       "    </tr>\n",
       "    <tr>\n",
       "      <th>1</th>\n",
       "      <td>0.397844</td>\n",
       "      <td>0.268236</td>\n",
       "      <td>-0.139806</td>\n",
       "    </tr>\n",
       "    <tr>\n",
       "      <th>2</th>\n",
       "      <td>0.396368</td>\n",
       "      <td>0.267138</td>\n",
       "      <td>-0.156198</td>\n",
       "    </tr>\n",
       "    <tr>\n",
       "      <th>3</th>\n",
       "      <td>0.397141</td>\n",
       "      <td>0.266163</td>\n",
       "      <td>-0.170310</td>\n",
       "    </tr>\n",
       "    <tr>\n",
       "      <th>4</th>\n",
       "      <td>0.399272</td>\n",
       "      <td>0.265084</td>\n",
       "      <td>-0.181452</td>\n",
       "    </tr>\n",
       "    <tr>\n",
       "      <th>...</th>\n",
       "      <td>...</td>\n",
       "      <td>...</td>\n",
       "      <td>...</td>\n",
       "    </tr>\n",
       "    <tr>\n",
       "      <th>3995</th>\n",
       "      <td>0.361682</td>\n",
       "      <td>-0.159001</td>\n",
       "      <td>0.002152</td>\n",
       "    </tr>\n",
       "    <tr>\n",
       "      <th>3996</th>\n",
       "      <td>0.360979</td>\n",
       "      <td>-0.154925</td>\n",
       "      <td>0.004915</td>\n",
       "    </tr>\n",
       "    <tr>\n",
       "      <th>3997</th>\n",
       "      <td>0.360215</td>\n",
       "      <td>-0.150758</td>\n",
       "      <td>0.007606</td>\n",
       "    </tr>\n",
       "    <tr>\n",
       "      <th>3998</th>\n",
       "      <td>0.359443</td>\n",
       "      <td>-0.146674</td>\n",
       "      <td>0.010107</td>\n",
       "    </tr>\n",
       "    <tr>\n",
       "      <th>3999</th>\n",
       "      <td>0.358577</td>\n",
       "      <td>-0.142313</td>\n",
       "      <td>0.012615</td>\n",
       "    </tr>\n",
       "  </tbody>\n",
       "</table>\n",
       "<p>4000 rows × 3 columns</p>\n",
       "</div>"
      ],
      "text/plain": [
       "      base_velocity_0  base_velocity_1  base_velocity_2\n",
       "0            0.401387         0.270018        -0.122184\n",
       "1            0.397844         0.268236        -0.139806\n",
       "2            0.396368         0.267138        -0.156198\n",
       "3            0.397141         0.266163        -0.170310\n",
       "4            0.399272         0.265084        -0.181452\n",
       "...               ...              ...              ...\n",
       "3995         0.361682        -0.159001         0.002152\n",
       "3996         0.360979        -0.154925         0.004915\n",
       "3997         0.360215        -0.150758         0.007606\n",
       "3998         0.359443        -0.146674         0.010107\n",
       "3999         0.358577        -0.142313         0.012615\n",
       "\n",
       "[4000 rows x 3 columns]"
      ]
     },
     "execution_count": 7,
     "metadata": {},
     "output_type": "execute_result"
    }
   ],
   "source": [
    "base_velocity_downsample"
   ]
  },
  {
   "cell_type": "code",
   "execution_count": 8,
   "metadata": {},
   "outputs": [
    {
     "data": {
      "text/plain": [
       "(4000, 20)"
      ]
     },
     "execution_count": 8,
     "metadata": {},
     "output_type": "execute_result"
    }
   ],
   "source": [
    "import pandas as pd\n",
    "\n",
    "# Read in all the recorded data and extract the position, velocity, and torque.\n",
    "# Use this block to form a reward in Digit's gym environment.\n",
    "digit_state_distill = pd.read_csv('digit_state_downsample.csv')\n",
    "\n",
    "# The definition of position_full and velocity_full is in digit_main. \n",
    "# https://github.gatech.edu/GeorgiaTechLIDARGroup/digit_main/blob/d11392ff2c08593005b2d5e0187e3e9c0fd84f49/include/digit_definition.hpp#L17\n",
    "position_full = digit_state_distill.loc[:,'position_full_0':'position_full_29']\n",
    "\n",
    "velocity_full = digit_state_distill.loc[:,'velocity_full_0':'velocity_full_29']\n",
    "\n",
    "# The definition of motor torque is also in digit_main.\n",
    "# https://github.gatech.edu/GeorgiaTechLIDARGroup/digit_main/blob/d11392ff2c08593005b2d5e0187e3e9c0fd84f49/include/digit_definition.hpp#L100\n",
    "torque = digit_state_distill.loc[:,'torque_0':'torque_19']\n",
    "\n",
    "base_position = digit_state_all.loc[time_period,'base_position_0':'base_position_2']\n",
    "\n",
    "base_velocity = digit_state_all.loc[time_period,'base_velocity_0':'base_velocity_2']\n",
    "\n",
    "torque.shape\n"
   ]
  },
  {
   "cell_type": "code",
   "execution_count": null,
   "metadata": {},
   "outputs": [],
   "source": [
    "# Testing module.\n",
    "print(position_downsample.shape)\n",
    "print(position_downsample.head())\n",
    "import numpy as np\n",
    "import scipy\n",
    "import matplotlib.pyplot as plt\n",
    "index = np.arange(0,10.,2.5)\n",
    "print(index)\n",
    "# f = scipy.interpolate.interp1d(np.arange(0,10), position_full.to_numpy(), axis=0)\n",
    "# y = f(index)\n",
    "# position_downsample = position_full.to_numpy()\n",
    "# print(position_downsample)\n",
    "# plt.plot(index, y)\n",
    "# print(y)\n",
    "torque.keys()\n"
   ]
  }
 ],
 "metadata": {
  "kernelspec": {
   "display_name": "Python 3.8.10 64-bit",
   "language": "python",
   "name": "python3"
  },
  "language_info": {
   "codemirror_mode": {
    "name": "ipython",
    "version": 3
   },
   "file_extension": ".py",
   "mimetype": "text/x-python",
   "name": "python",
   "nbconvert_exporter": "python",
   "pygments_lexer": "ipython3",
   "version": "3.10.14"
  },
  "orig_nbformat": 4,
  "vscode": {
   "interpreter": {
    "hash": "767d51c1340bd893661ea55ea3124f6de3c7a262a8b4abca0554b478b1e2ff90"
   }
  }
 },
 "nbformat": 4,
 "nbformat_minor": 2
}
