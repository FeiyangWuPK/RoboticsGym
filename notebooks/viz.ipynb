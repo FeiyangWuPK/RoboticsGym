{
 "cells": [
  {
   "cell_type": "code",
   "execution_count": 5,
   "metadata": {},
   "outputs": [
    {
     "name": "stdout",
     "output_type": "stream",
     "text": [
      "The autoreload extension is already loaded. To reload it, use:\n",
      "  %reload_ext autoreload\n",
      "Append path: /home/zgu78/biped_learning/RoboticsGym to sys.path\n"
     ]
    },
    {
     "name": "stderr",
     "output_type": "stream",
     "text": [
      "/home/zgu78/miniconda3/envs/mujoco_sim/lib/python3.8/site-packages/gymnasium/envs/registration.py:693: UserWarning: \u001b[33mWARN: Overriding environment Digit-v1 already in registry.\u001b[0m\n",
      "  logger.warn(f\"Overriding environment {new_spec.id} already in registry.\")\n",
      "/home/zgu78/miniconda3/envs/mujoco_sim/lib/python3.8/site-packages/gymnasium/envs/registration.py:693: UserWarning: \u001b[33mWARN: Overriding environment Cassie-v1 already in registry.\u001b[0m\n",
      "  logger.warn(f\"Overriding environment {new_spec.id} already in registry.\")\n",
      "/home/zgu78/miniconda3/envs/mujoco_sim/lib/python3.8/site-packages/gymnasium/envs/registration.py:693: UserWarning: \u001b[33mWARN: Overriding environment CassieViz-v1 already in registry.\u001b[0m\n",
      "  logger.warn(f\"Overriding environment {new_spec.id} already in registry.\")\n"
     ]
    }
   ],
   "source": [
    "%load_ext autoreload\n",
    "%autoreload 2\n",
    "\n",
    "import os\n",
    "import sys\n",
    "path = os.path.abspath('../../')\n",
    "sys.path.append(str(path))\n",
    "print('Append path: ' + str(path) + ' to sys.path')\n",
    "\n",
    "from stable_baselines3 import SAC\n",
    "from stable_baselines3.common.monitor import Monitor\n",
    "from stable_baselines3.common.utils import set_random_seed\n",
    "from stable_baselines3.common.env_util import make_vec_env\n",
    "from stable_baselines3.common.vec_env import DummyVecEnv, SubprocVecEnv, VecEnv\n",
    "from stable_baselines3.common.evaluation import evaluate_policy\n",
    "\n",
    "import gymnasium as gym\n",
    "from gymnasium.envs.registration import register\n",
    "from stable_baselines3.common.callbacks import EvalCallback\n",
    "\n",
    "register(id='Digit-v1',\n",
    "\t\tentry_point='digit:DigitEnv',\n",
    "\t\tmax_episode_steps=1000,\n",
    "\t\tautoreset=True,)\n",
    "\n",
    "register(id='Cassie-v1',\n",
    "\t\tentry_point='mj_cassie:CassieEnv',\n",
    "\t\tmax_episode_steps=1000,\n",
    "\t\tautoreset=True,)\n",
    "\n",
    "register(id='CassieViz-v1',\n",
    "\t\tentry_point='../cassie_viz:CassieEnv',\n",
    "\t\tmax_episode_steps=1000,\n",
    "\t\tautoreset=True,)"
   ]
  },
  {
   "cell_type": "code",
   "execution_count": 6,
   "metadata": {},
   "outputs": [
    {
     "ename": "TypeError",
     "evalue": "the 'package' argument is required to perform a relative import for '../cassie_viz'",
     "output_type": "error",
     "traceback": [
      "\u001b[0;31m---------------------------------------------------------------------------\u001b[0m",
      "\u001b[0;31mTypeError\u001b[0m                                 Traceback (most recent call last)",
      "File \u001b[0;32m~/miniconda3/envs/mujoco_sim/lib/python3.8/site-packages/stable_baselines3/common/env_util.py:94\u001b[0m, in \u001b[0;36mmake_vec_env.<locals>.make_env.<locals>._init\u001b[0;34m()\u001b[0m\n\u001b[1;32m     93\u001b[0m \u001b[39mtry\u001b[39;00m:\n\u001b[0;32m---> 94\u001b[0m     env \u001b[39m=\u001b[39m gym\u001b[39m.\u001b[39;49mmake(env_id, \u001b[39m*\u001b[39;49m\u001b[39m*\u001b[39;49mkwargs)  \u001b[39m# type: ignore[arg-type]\u001b[39;00m\n\u001b[1;32m     95\u001b[0m \u001b[39mexcept\u001b[39;00m \u001b[39mTypeError\u001b[39;00m:\n",
      "File \u001b[0;32m~/miniconda3/envs/mujoco_sim/lib/python3.8/site-packages/gymnasium/envs/registration.py:755\u001b[0m, in \u001b[0;36mmake\u001b[0;34m(id, max_episode_steps, autoreset, apply_api_compatibility, disable_env_checker, **kwargs)\u001b[0m\n\u001b[1;32m    753\u001b[0m \u001b[39melse\u001b[39;00m:\n\u001b[1;32m    754\u001b[0m     \u001b[39m# Assume it's a string\u001b[39;00m\n\u001b[0;32m--> 755\u001b[0m     env_creator \u001b[39m=\u001b[39m load_env_creator(env_spec\u001b[39m.\u001b[39;49mentry_point)\n\u001b[1;32m    757\u001b[0m \u001b[39m# Determine if to use the rendering\u001b[39;00m\n",
      "File \u001b[0;32m~/miniconda3/envs/mujoco_sim/lib/python3.8/site-packages/gymnasium/envs/registration.py:553\u001b[0m, in \u001b[0;36mload_env_creator\u001b[0;34m(name)\u001b[0m\n\u001b[1;32m    552\u001b[0m mod_name, attr_name \u001b[39m=\u001b[39m name\u001b[39m.\u001b[39msplit(\u001b[39m\"\u001b[39m\u001b[39m:\u001b[39m\u001b[39m\"\u001b[39m)\n\u001b[0;32m--> 553\u001b[0m mod \u001b[39m=\u001b[39m importlib\u001b[39m.\u001b[39;49mimport_module(mod_name)\n\u001b[1;32m    554\u001b[0m fn \u001b[39m=\u001b[39m \u001b[39mgetattr\u001b[39m(mod, attr_name)\n",
      "File \u001b[0;32m~/miniconda3/envs/mujoco_sim/lib/python3.8/importlib/__init__.py:122\u001b[0m, in \u001b[0;36mimport_module\u001b[0;34m(name, package)\u001b[0m\n\u001b[1;32m    120\u001b[0m     msg \u001b[39m=\u001b[39m (\u001b[39m\"\u001b[39m\u001b[39mthe \u001b[39m\u001b[39m'\u001b[39m\u001b[39mpackage\u001b[39m\u001b[39m'\u001b[39m\u001b[39m argument is required to perform a relative \u001b[39m\u001b[39m\"\u001b[39m\n\u001b[1;32m    121\u001b[0m            \u001b[39m\"\u001b[39m\u001b[39mimport for \u001b[39m\u001b[39m{!r}\u001b[39;00m\u001b[39m\"\u001b[39m)\n\u001b[0;32m--> 122\u001b[0m     \u001b[39mraise\u001b[39;00m \u001b[39mTypeError\u001b[39;00m(msg\u001b[39m.\u001b[39mformat(name))\n\u001b[1;32m    123\u001b[0m \u001b[39mfor\u001b[39;00m character \u001b[39min\u001b[39;00m name:\n",
      "\u001b[0;31mTypeError\u001b[0m: the 'package' argument is required to perform a relative import for '../cassie_viz'",
      "\nDuring handling of the above exception, another exception occurred:\n",
      "\u001b[0;31mTypeError\u001b[0m                                 Traceback (most recent call last)",
      "\u001b[1;32m/home/zgu78/biped_learning/RoboticsGym/notebooks/viz.ipynb Cell 2\u001b[0m in \u001b[0;36m<cell line: 10>\u001b[0;34m()\u001b[0m\n\u001b[1;32m      <a href='vscode-notebook-cell:/home/zgu78/biped_learning/RoboticsGym/notebooks/viz.ipynb#W1sZmlsZQ%3D%3D?line=2'>3</a>\u001b[0m \tmodel \u001b[39m=\u001b[39m SAC(\u001b[39m\"\u001b[39m\u001b[39mMlpPolicy\u001b[39m\u001b[39m\"\u001b[39m,\n\u001b[1;32m      <a href='vscode-notebook-cell:/home/zgu78/biped_learning/RoboticsGym/notebooks/viz.ipynb#W1sZmlsZQ%3D%3D?line=3'>4</a>\u001b[0m \t\t\t\tenv,\n\u001b[1;32m      <a href='vscode-notebook-cell:/home/zgu78/biped_learning/RoboticsGym/notebooks/viz.ipynb#W1sZmlsZQ%3D%3D?line=4'>5</a>\u001b[0m \t\t\t\tverbose\u001b[39m=\u001b[39m\u001b[39m0\u001b[39m,\n\u001b[1;32m      <a href='vscode-notebook-cell:/home/zgu78/biped_learning/RoboticsGym/notebooks/viz.ipynb#W1sZmlsZQ%3D%3D?line=5'>6</a>\u001b[0m \t\t\t\tlearning_rate\u001b[39m=\u001b[39m\u001b[39m1e-3\u001b[39m,)\n\u001b[1;32m      <a href='vscode-notebook-cell:/home/zgu78/biped_learning/RoboticsGym/notebooks/viz.ipynb#W1sZmlsZQ%3D%3D?line=6'>7</a>\u001b[0m \tevaluate_policy(model, env, render\u001b[39m=\u001b[39m\u001b[39mTrue\u001b[39;00m, n_eval_episodes\u001b[39m=\u001b[39m\u001b[39m1\u001b[39m)\n\u001b[0;32m---> <a href='vscode-notebook-cell:/home/zgu78/biped_learning/RoboticsGym/notebooks/viz.ipynb#W1sZmlsZQ%3D%3D?line=9'>10</a>\u001b[0m visualize_reference_traj()\n",
      "\u001b[1;32m/home/zgu78/biped_learning/RoboticsGym/notebooks/viz.ipynb Cell 2\u001b[0m in \u001b[0;36mvisualize_reference_traj\u001b[0;34m()\u001b[0m\n\u001b[1;32m      <a href='vscode-notebook-cell:/home/zgu78/biped_learning/RoboticsGym/notebooks/viz.ipynb#W1sZmlsZQ%3D%3D?line=0'>1</a>\u001b[0m \u001b[39mdef\u001b[39;00m \u001b[39mvisualize_reference_traj\u001b[39m():\n\u001b[0;32m----> <a href='vscode-notebook-cell:/home/zgu78/biped_learning/RoboticsGym/notebooks/viz.ipynb#W1sZmlsZQ%3D%3D?line=1'>2</a>\u001b[0m \tenv \u001b[39m=\u001b[39m make_vec_env(\u001b[39m\"\u001b[39;49m\u001b[39mCassieViz-v1\u001b[39;49m\u001b[39m\"\u001b[39;49m, n_envs\u001b[39m=\u001b[39;49m\u001b[39m1\u001b[39;49m, env_kwargs\u001b[39m=\u001b[39;49m{\u001b[39m'\u001b[39;49m\u001b[39mexclude_current_positions_from_observation\u001b[39;49m\u001b[39m'\u001b[39;49m: \u001b[39mFalse\u001b[39;49;00m, \u001b[39m'\u001b[39;49m\u001b[39mrender_mode\u001b[39;49m\u001b[39m'\u001b[39;49m: \u001b[39m'\u001b[39;49m\u001b[39mhuman\u001b[39;49m\u001b[39m'\u001b[39;49m})\n\u001b[1;32m      <a href='vscode-notebook-cell:/home/zgu78/biped_learning/RoboticsGym/notebooks/viz.ipynb#W1sZmlsZQ%3D%3D?line=2'>3</a>\u001b[0m \tmodel \u001b[39m=\u001b[39m SAC(\u001b[39m\"\u001b[39m\u001b[39mMlpPolicy\u001b[39m\u001b[39m\"\u001b[39m,\n\u001b[1;32m      <a href='vscode-notebook-cell:/home/zgu78/biped_learning/RoboticsGym/notebooks/viz.ipynb#W1sZmlsZQ%3D%3D?line=3'>4</a>\u001b[0m \t\t\t\tenv,\n\u001b[1;32m      <a href='vscode-notebook-cell:/home/zgu78/biped_learning/RoboticsGym/notebooks/viz.ipynb#W1sZmlsZQ%3D%3D?line=4'>5</a>\u001b[0m \t\t\t\tverbose\u001b[39m=\u001b[39m\u001b[39m0\u001b[39m,\n\u001b[1;32m      <a href='vscode-notebook-cell:/home/zgu78/biped_learning/RoboticsGym/notebooks/viz.ipynb#W1sZmlsZQ%3D%3D?line=5'>6</a>\u001b[0m \t\t\t\tlearning_rate\u001b[39m=\u001b[39m\u001b[39m1e-3\u001b[39m,)\n\u001b[1;32m      <a href='vscode-notebook-cell:/home/zgu78/biped_learning/RoboticsGym/notebooks/viz.ipynb#W1sZmlsZQ%3D%3D?line=6'>7</a>\u001b[0m \tevaluate_policy(model, env, render\u001b[39m=\u001b[39m\u001b[39mTrue\u001b[39;00m, n_eval_episodes\u001b[39m=\u001b[39m\u001b[39m1\u001b[39m)\n",
      "File \u001b[0;32m~/miniconda3/envs/mujoco_sim/lib/python3.8/site-packages/stable_baselines3/common/env_util.py:125\u001b[0m, in \u001b[0;36mmake_vec_env\u001b[0;34m(env_id, n_envs, seed, start_index, monitor_dir, wrapper_class, env_kwargs, vec_env_cls, vec_env_kwargs, monitor_kwargs, wrapper_kwargs)\u001b[0m\n\u001b[1;32m    121\u001b[0m \u001b[39mif\u001b[39;00m vec_env_cls \u001b[39mis\u001b[39;00m \u001b[39mNone\u001b[39;00m:\n\u001b[1;32m    122\u001b[0m     \u001b[39m# Default: use a DummyVecEnv\u001b[39;00m\n\u001b[1;32m    123\u001b[0m     vec_env_cls \u001b[39m=\u001b[39m DummyVecEnv\n\u001b[0;32m--> 125\u001b[0m vec_env \u001b[39m=\u001b[39m vec_env_cls([make_env(i \u001b[39m+\u001b[39;49m start_index) \u001b[39mfor\u001b[39;49;00m i \u001b[39min\u001b[39;49;00m \u001b[39mrange\u001b[39;49m(n_envs)], \u001b[39m*\u001b[39;49m\u001b[39m*\u001b[39;49mvec_env_kwargs)\n\u001b[1;32m    126\u001b[0m \u001b[39m# Prepare the seeds for the first reset\u001b[39;00m\n\u001b[1;32m    127\u001b[0m vec_env\u001b[39m.\u001b[39mseed(seed)\n",
      "File \u001b[0;32m~/miniconda3/envs/mujoco_sim/lib/python3.8/site-packages/stable_baselines3/common/vec_env/dummy_vec_env.py:30\u001b[0m, in \u001b[0;36mDummyVecEnv.__init__\u001b[0;34m(self, env_fns)\u001b[0m\n\u001b[1;32m     29\u001b[0m \u001b[39mdef\u001b[39;00m \u001b[39m__init__\u001b[39m(\u001b[39mself\u001b[39m, env_fns: List[Callable[[], gym\u001b[39m.\u001b[39mEnv]]):\n\u001b[0;32m---> 30\u001b[0m     \u001b[39mself\u001b[39m\u001b[39m.\u001b[39menvs \u001b[39m=\u001b[39m [_patch_env(fn()) \u001b[39mfor\u001b[39;00m fn \u001b[39min\u001b[39;00m env_fns]\n\u001b[1;32m     31\u001b[0m     \u001b[39mif\u001b[39;00m \u001b[39mlen\u001b[39m(\u001b[39mset\u001b[39m([\u001b[39mid\u001b[39m(env\u001b[39m.\u001b[39munwrapped) \u001b[39mfor\u001b[39;00m env \u001b[39min\u001b[39;00m \u001b[39mself\u001b[39m\u001b[39m.\u001b[39menvs])) \u001b[39m!=\u001b[39m \u001b[39mlen\u001b[39m(\u001b[39mself\u001b[39m\u001b[39m.\u001b[39menvs):\n\u001b[1;32m     32\u001b[0m         \u001b[39mraise\u001b[39;00m \u001b[39mValueError\u001b[39;00m(\n\u001b[1;32m     33\u001b[0m             \u001b[39m\"\u001b[39m\u001b[39mYou tried to create multiple environments, but the function to create them returned the same instance \u001b[39m\u001b[39m\"\u001b[39m\n\u001b[1;32m     34\u001b[0m             \u001b[39m\"\u001b[39m\u001b[39minstead of creating different objects. \u001b[39m\u001b[39m\"\u001b[39m\n\u001b[0;32m   (...)\u001b[0m\n\u001b[1;32m     39\u001b[0m             \u001b[39m\"\u001b[39m\u001b[39mPlease read https://github.com/DLR-RM/stable-baselines3/issues/1151 for more information.\u001b[39m\u001b[39m\"\u001b[39m\n\u001b[1;32m     40\u001b[0m         )\n",
      "File \u001b[0;32m~/miniconda3/envs/mujoco_sim/lib/python3.8/site-packages/stable_baselines3/common/vec_env/dummy_vec_env.py:30\u001b[0m, in \u001b[0;36m<listcomp>\u001b[0;34m(.0)\u001b[0m\n\u001b[1;32m     29\u001b[0m \u001b[39mdef\u001b[39;00m \u001b[39m__init__\u001b[39m(\u001b[39mself\u001b[39m, env_fns: List[Callable[[], gym\u001b[39m.\u001b[39mEnv]]):\n\u001b[0;32m---> 30\u001b[0m     \u001b[39mself\u001b[39m\u001b[39m.\u001b[39menvs \u001b[39m=\u001b[39m [_patch_env(fn()) \u001b[39mfor\u001b[39;00m fn \u001b[39min\u001b[39;00m env_fns]\n\u001b[1;32m     31\u001b[0m     \u001b[39mif\u001b[39;00m \u001b[39mlen\u001b[39m(\u001b[39mset\u001b[39m([\u001b[39mid\u001b[39m(env\u001b[39m.\u001b[39munwrapped) \u001b[39mfor\u001b[39;00m env \u001b[39min\u001b[39;00m \u001b[39mself\u001b[39m\u001b[39m.\u001b[39menvs])) \u001b[39m!=\u001b[39m \u001b[39mlen\u001b[39m(\u001b[39mself\u001b[39m\u001b[39m.\u001b[39menvs):\n\u001b[1;32m     32\u001b[0m         \u001b[39mraise\u001b[39;00m \u001b[39mValueError\u001b[39;00m(\n\u001b[1;32m     33\u001b[0m             \u001b[39m\"\u001b[39m\u001b[39mYou tried to create multiple environments, but the function to create them returned the same instance \u001b[39m\u001b[39m\"\u001b[39m\n\u001b[1;32m     34\u001b[0m             \u001b[39m\"\u001b[39m\u001b[39minstead of creating different objects. \u001b[39m\u001b[39m\"\u001b[39m\n\u001b[0;32m   (...)\u001b[0m\n\u001b[1;32m     39\u001b[0m             \u001b[39m\"\u001b[39m\u001b[39mPlease read https://github.com/DLR-RM/stable-baselines3/issues/1151 for more information.\u001b[39m\u001b[39m\"\u001b[39m\n\u001b[1;32m     40\u001b[0m         )\n",
      "File \u001b[0;32m~/miniconda3/envs/mujoco_sim/lib/python3.8/site-packages/stable_baselines3/common/env_util.py:96\u001b[0m, in \u001b[0;36mmake_vec_env.<locals>.make_env.<locals>._init\u001b[0;34m()\u001b[0m\n\u001b[1;32m     94\u001b[0m         env \u001b[39m=\u001b[39m gym\u001b[39m.\u001b[39mmake(env_id, \u001b[39m*\u001b[39m\u001b[39m*\u001b[39mkwargs)  \u001b[39m# type: ignore[arg-type]\u001b[39;00m\n\u001b[1;32m     95\u001b[0m     \u001b[39mexcept\u001b[39;00m \u001b[39mTypeError\u001b[39;00m:\n\u001b[0;32m---> 96\u001b[0m         env \u001b[39m=\u001b[39m gym\u001b[39m.\u001b[39;49mmake(env_id, \u001b[39m*\u001b[39;49m\u001b[39m*\u001b[39;49menv_kwargs)\n\u001b[1;32m     97\u001b[0m \u001b[39melse\u001b[39;00m:\n\u001b[1;32m     98\u001b[0m     env \u001b[39m=\u001b[39m env_id(\u001b[39m*\u001b[39m\u001b[39m*\u001b[39menv_kwargs)\n",
      "File \u001b[0;32m~/miniconda3/envs/mujoco_sim/lib/python3.8/site-packages/gymnasium/envs/registration.py:755\u001b[0m, in \u001b[0;36mmake\u001b[0;34m(id, max_episode_steps, autoreset, apply_api_compatibility, disable_env_checker, **kwargs)\u001b[0m\n\u001b[1;32m    752\u001b[0m     env_creator \u001b[39m=\u001b[39m env_spec\u001b[39m.\u001b[39mentry_point\n\u001b[1;32m    753\u001b[0m \u001b[39melse\u001b[39;00m:\n\u001b[1;32m    754\u001b[0m     \u001b[39m# Assume it's a string\u001b[39;00m\n\u001b[0;32m--> 755\u001b[0m     env_creator \u001b[39m=\u001b[39m load_env_creator(env_spec\u001b[39m.\u001b[39;49mentry_point)\n\u001b[1;32m    757\u001b[0m \u001b[39m# Determine if to use the rendering\u001b[39;00m\n\u001b[1;32m    758\u001b[0m render_modes: \u001b[39mlist\u001b[39m[\u001b[39mstr\u001b[39m] \u001b[39m|\u001b[39m \u001b[39mNone\u001b[39;00m \u001b[39m=\u001b[39m \u001b[39mNone\u001b[39;00m\n",
      "File \u001b[0;32m~/miniconda3/envs/mujoco_sim/lib/python3.8/site-packages/gymnasium/envs/registration.py:553\u001b[0m, in \u001b[0;36mload_env_creator\u001b[0;34m(name)\u001b[0m\n\u001b[1;32m    544\u001b[0m \u001b[39m\u001b[39m\u001b[39m\"\"\"Loads an environment with name of style ``\"(import path):(environment name)\"`` and returns the environment creation function, normally the environment class type.\u001b[39;00m\n\u001b[1;32m    545\u001b[0m \n\u001b[1;32m    546\u001b[0m \u001b[39mArgs:\u001b[39;00m\n\u001b[0;32m   (...)\u001b[0m\n\u001b[1;32m    550\u001b[0m \u001b[39m    The environment constructor for the given environment name.\u001b[39;00m\n\u001b[1;32m    551\u001b[0m \u001b[39m\"\"\"\u001b[39;00m\n\u001b[1;32m    552\u001b[0m mod_name, attr_name \u001b[39m=\u001b[39m name\u001b[39m.\u001b[39msplit(\u001b[39m\"\u001b[39m\u001b[39m:\u001b[39m\u001b[39m\"\u001b[39m)\n\u001b[0;32m--> 553\u001b[0m mod \u001b[39m=\u001b[39m importlib\u001b[39m.\u001b[39;49mimport_module(mod_name)\n\u001b[1;32m    554\u001b[0m fn \u001b[39m=\u001b[39m \u001b[39mgetattr\u001b[39m(mod, attr_name)\n\u001b[1;32m    555\u001b[0m \u001b[39mreturn\u001b[39;00m fn\n",
      "File \u001b[0;32m~/miniconda3/envs/mujoco_sim/lib/python3.8/importlib/__init__.py:122\u001b[0m, in \u001b[0;36mimport_module\u001b[0;34m(name, package)\u001b[0m\n\u001b[1;32m    119\u001b[0m \u001b[39mif\u001b[39;00m \u001b[39mnot\u001b[39;00m package:\n\u001b[1;32m    120\u001b[0m     msg \u001b[39m=\u001b[39m (\u001b[39m\"\u001b[39m\u001b[39mthe \u001b[39m\u001b[39m'\u001b[39m\u001b[39mpackage\u001b[39m\u001b[39m'\u001b[39m\u001b[39m argument is required to perform a relative \u001b[39m\u001b[39m\"\u001b[39m\n\u001b[1;32m    121\u001b[0m            \u001b[39m\"\u001b[39m\u001b[39mimport for \u001b[39m\u001b[39m{!r}\u001b[39;00m\u001b[39m\"\u001b[39m)\n\u001b[0;32m--> 122\u001b[0m     \u001b[39mraise\u001b[39;00m \u001b[39mTypeError\u001b[39;00m(msg\u001b[39m.\u001b[39mformat(name))\n\u001b[1;32m    123\u001b[0m \u001b[39mfor\u001b[39;00m character \u001b[39min\u001b[39;00m name:\n\u001b[1;32m    124\u001b[0m     \u001b[39mif\u001b[39;00m character \u001b[39m!=\u001b[39m \u001b[39m'\u001b[39m\u001b[39m.\u001b[39m\u001b[39m'\u001b[39m:\n",
      "\u001b[0;31mTypeError\u001b[0m: the 'package' argument is required to perform a relative import for '../cassie_viz'"
     ]
    }
   ],
   "source": [
    "def visualize_reference_traj():\n",
    "\tenv = make_vec_env(\"CassieViz-v1\", n_envs=1, env_kwargs={'exclude_current_positions_from_observation': False, 'render_mode': 'human'})\n",
    "\tmodel = SAC(\"MlpPolicy\",\n",
    "\t\t\t\tenv,\n",
    "\t\t\t\tverbose=0,\n",
    "\t\t\t\tlearning_rate=1e-3,)\n",
    "\tevaluate_policy(model, env, render=True, n_eval_episodes=1)\n",
    "\n",
    "\n",
    "visualize_reference_traj()\n"
   ]
  }
 ],
 "metadata": {
  "kernelspec": {
   "display_name": "Python 3",
   "language": "python",
   "name": "python3"
  },
  "language_info": {
   "codemirror_mode": {
    "name": "ipython",
    "version": 3
   },
   "file_extension": ".py",
   "mimetype": "text/x-python",
   "name": "python",
   "nbconvert_exporter": "python",
   "pygments_lexer": "ipython3",
   "version": "3.8.16"
  },
  "orig_nbformat": 4
 },
 "nbformat": 4,
 "nbformat_minor": 2
}
