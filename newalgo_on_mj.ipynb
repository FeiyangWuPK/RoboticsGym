{
 "cells": [
  {
   "cell_type": "code",
   "execution_count": 1,
   "metadata": {},
   "outputs": [],
   "source": [
    "import gymnasium as gym\n",
    "import sys, os\n",
    "from typing import Callable\n",
    "import datetime\n",
    "import time\n",
    "import optuna\n",
    "from stable_baselines3.common import type_aliases\n",
    "from stable_baselines3.common.env_util import make_vec_env\n",
    "from stable_baselines3.common.callbacks import EvalCallback, BaseCallback, CallbackList, EventCallback\n",
    "from stable_baselines3.common.vec_env import SubprocVecEnv, VecMonitor\n",
    "from stable_baselines3.common.vec_env import DummyVecEnv, VecVideoRecorder, VecEnv, sync_envs_normalization, is_vecenv_wrapped\n",
    "from stable_baselines3.common.monitor import Monitor\n",
    "from stable_baselines3.common.evaluation import evaluate_policy\n",
    "from stable_baselines3.sac import SAC\n",
    "from stable_baselines3.common.env_checker import check_env\n",
    "from stable_baselines3.common import base_class  # pytype: disable=pyi-error\n",
    "from newAlgo import HIP, EvalStudentCallback, evaluate_student_policy\n",
    "from arm_cassie_env.cassie_env.cassieRLEnvMirror import cassieRLEnvMirror\n",
    "from arm_cassie_env.cassie_env.oldCassie import OldCassieMirrorEnv\n",
    "from inversepolicies import IPMDPolicy\n",
    "import wandb\n",
    "from wandb.integration.sb3 import WandbCallback\n",
    "from gymnasium.envs.registration import register\n",
    "import warnings\n",
    "import numpy as np"
   ]
  },
  {
   "cell_type": "code",
   "execution_count": 4,
   "metadata": {},
   "outputs": [],
   "source": [
    "def train_SAC(env:str = \"HalfCheetah-v4\"):\n",
    "    config = {\n",
    "        \"policy_type\": \"MlpPolicy\",\n",
    "        \"total_timesteps\": 5e6,\n",
    "        \"env_id\": env,\n",
    "        'n_envs': 16,\n",
    "    }\n",
    "    run = wandb.init(\n",
    "        project=\"IRL HIP Tuning\",\n",
    "        config=config,\n",
    "        name=f'{time.strftime(\"%Y-%m-%d-%H-%M-%S\")}',\n",
    "        sync_tensorboard=True,  # auto-upload sb3's tensorboard metrics\n",
    "        monitor_gym=True,  # auto-upload the videos of agents playing the game\n",
    "        save_code=True,  # optional\n",
    "    )\n",
    "    wandbcallback = WandbCallback(\n",
    "            model_save_path=f\"models/{run.id}\",\n",
    "            model_save_freq=10000,\n",
    "            gradient_save_freq=10000,\n",
    "            verbose=2,\n",
    "        )\n",
    "    # Create log dir\n",
    "    train_env = make_vec_env(config['env_id'], n_envs=config['n_envs'],vec_env_cls=SubprocVecEnv)\n",
    "\t# Separate evaluation env\n",
    "    eval_env = make_vec_env(config['env_id'], n_envs=1,vec_env_cls=SubprocVecEnv)\n",
    "\t# Use deterministic actions for evaluation\n",
    "    eval_callback = EvalCallback(eval_env, \n",
    "                                 best_model_save_path=f\"./logs/{run.name}/teacher/\",\n",
    "                                 log_path=f\"./logs/{run.name}/teacher/\", \n",
    "                                 eval_freq=2000,\n",
    "                                 n_eval_episodes=3,\n",
    "                                 deterministic=True, \n",
    "                                 render=False,\n",
    "                                 verbose=1)\n",
    "    \n",
    "    callback_list = CallbackList([eval_callback, wandbcallback, ])\n",
    "\t# Init model\n",
    "    sac_model = SAC(policy=config['policy_type'],\n",
    "                    env=train_env,\n",
    "                    tensorboard_log=f'logs/tensorboard/{run.name}/',\n",
    "                    \n",
    "                    )\n",
    "    sac_model.learn(total_timesteps=int(config['total_timesteps']), callback=callback_list, progress_bar=True)\n",
    "    run.finish()"
   ]
  },
  {
   "cell_type": "code",
   "execution_count": null,
   "metadata": {},
   "outputs": [],
   "source": [
    "for env in ['Ant-v4', 'HalfCheetah-v4', 'Hopper-v4', 'Humanoid-v4', 'Walker2d-v4']:\n",
    "    train_SAC(env=env)"
   ]
  }
 ],
 "metadata": {
  "kernelspec": {
   "display_name": "cassieirl",
   "language": "python",
   "name": "python3"
  },
  "language_info": {
   "codemirror_mode": {
    "name": "ipython",
    "version": 3
   },
   "file_extension": ".py",
   "mimetype": "text/x-python",
   "name": "python",
   "nbconvert_exporter": "python",
   "pygments_lexer": "ipython3",
   "version": "3.10.9"
  },
  "orig_nbformat": 4
 },
 "nbformat": 4,
 "nbformat_minor": 2
}
