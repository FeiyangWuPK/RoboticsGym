{
 "cells": [
  {
   "cell_type": "code",
   "execution_count": 13,
   "metadata": {},
   "outputs": [
    {
     "name": "stdout",
     "output_type": "stream",
     "text": [
      "The autoreload extension is already loaded. To reload it, use:\n",
      "  %reload_ext autoreload\n",
      "Append path: /home/zgu78/biped_learning to sys.path\n"
     ]
    }
   ],
   "source": [
    "%load_ext autoreload\n",
    "%autoreload 2\n",
    "\n",
    "import os\n",
    "import sys\n",
    "path = os.path.abspath('../')\n",
    "sys.path.append(str(path))\n",
    "print('Append path: ' + str(path) + ' to sys.path')\n",
    "\n",
    "from stable_baselines3 import SAC\n",
    "from stable_baselines3.common.monitor import Monitor\n",
    "from stable_baselines3.common.utils import set_random_seed\n",
    "from stable_baselines3.common.env_util import make_vec_env\n",
    "from stable_baselines3.common.vec_env import DummyVecEnv, SubprocVecEnv, VecEnv\n",
    "from stable_baselines3.common.evaluation import evaluate_policy\n",
    "from stable_baselines3.common.env_checker import check_env\n",
    "\n",
    "import gymnasium as gym\n",
    "from gymnasium.envs.registration import register\n",
    "from stable_baselines3.common.callbacks import EvalCallback\n",
    "\n",
    "register(id='Digit-v1',\n",
    "\t\tentry_point='digit:DigitEnv',\n",
    "\t\tmax_episode_steps=1000,\n",
    "\t\tautoreset=True,)\n",
    "\n",
    "register(id='Cassie-v1',\n",
    "\t\tentry_point='mj_cassie:CassieEnv',\n",
    "\t\tmax_episode_steps=1000,\n",
    "\t\tautoreset=True,)\n",
    "\n",
    "register(id='CassieViz-v1',\n",
    "\t\tentry_point='cassie_viz:CassieEnv',\n",
    "\t\tmax_episode_steps=1000,\n",
    "\t\tautoreset=True,)"
   ]
  },
  {
   "cell_type": "code",
   "execution_count": 3,
   "metadata": {},
   "outputs": [
    {
     "data": {
      "text/plain": [
       "5"
      ]
     },
     "execution_count": 3,
     "metadata": {},
     "output_type": "execute_result"
    }
   ],
   "source": [
    "env = gym.make('CassieViz-v1')\n",
    "# check_env(env)\n",
    "env.model.opt.timestep\n",
    "env.frame_skip\n"
   ]
  },
  {
   "cell_type": "code",
   "execution_count": 17,
   "metadata": {},
   "outputs": [],
   "source": [
    "env = make_vec_env(\"CassieViz-v1\", n_envs=1, env_kwargs={'exclude_current_positions_from_observation': False, 'render_mode': 'human'})\n",
    "\n",
    "model = SAC(\"MlpPolicy\",\n",
    "\t\t\tenv,\n",
    "\t\t\tverbose=0,\n",
    "\t\t\tlearning_rate=1e-3,)\n",
    "mean_reward, std_reward = evaluate_policy(model, env, render=True, n_eval_episodes=2)"
   ]
  },
  {
   "cell_type": "code",
   "execution_count": 9,
   "metadata": {},
   "outputs": [],
   "source": [
    "env.close()\n"
   ]
  }
 ],
 "metadata": {
  "kernelspec": {
   "display_name": "Python 3",
   "language": "python",
   "name": "python3"
  },
  "language_info": {
   "codemirror_mode": {
    "name": "ipython",
    "version": 3
   },
   "file_extension": ".py",
   "mimetype": "text/x-python",
   "name": "python",
   "nbconvert_exporter": "python",
   "pygments_lexer": "ipython3",
   "version": "3.8.16"
  },
  "orig_nbformat": 4
 },
 "nbformat": 4,
 "nbformat_minor": 2
}
