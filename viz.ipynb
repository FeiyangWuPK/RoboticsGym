{
 "cells": [
  {
   "cell_type": "code",
   "execution_count": null,
   "metadata": {},
   "outputs": [],
   "source": [
    "%load_ext autoreload\n",
    "%autoreload 2\n",
    "\n",
    "import os\n",
    "import sys\n",
    "path = os.path.abspath('../')\n",
    "sys.path.append(str(path))\n",
    "print('Append path: ' + str(path) + ' to sys.path')\n",
    "\n",
    "from stable_baselines3 import SAC\n",
    "from stable_baselines3.common.monitor import Monitor\n",
    "from stable_baselines3.common.utils import set_random_seed\n",
    "from stable_baselines3.common.env_util import make_vec_env\n",
    "from stable_baselines3.common.vec_env import DummyVecEnv, SubprocVecEnv, VecEnv\n",
    "from stable_baselines3.common.evaluation import evaluate_policy\n",
    "from stable_baselines3.common.env_checker import check_env\n",
    "\n",
    "import gymnasium as gym\n",
    "from gymnasium.envs.registration import register\n",
    "from stable_baselines3.common.callbacks import EvalCallback\n",
    "import mujoco\n",
    "\n",
    "register(id='Digit-v1',\n",
    "\t\tentry_point='digit:DigitEnv',\n",
    "\t\tmax_episode_steps=1000,\n",
    "\t\tautoreset=True,)\n",
    "\n",
    "register(id='Cassie-v1',\n",
    "\t\tentry_point='mj_cassie:CassieEnv',\n",
    "\t\tmax_episode_steps=1000,\n",
    "\t\tautoreset=True,)\n",
    "\n",
    "register(id='CassieViz-v1',\n",
    "\t\tentry_point='cassie_viz:CassieEnv',\n",
    "\t\tmax_episode_steps=1000,\n",
    "\t\tautoreset=True,)"
   ]
  },
  {
   "cell_type": "code",
   "execution_count": null,
   "metadata": {},
   "outputs": [],
   "source": [
    "envs = make_vec_env(\"CassieViz-v1\", n_envs=1, env_kwargs={'exclude_current_positions_from_observation': False, 'render_mode': 'human'})\n",
    "env = envs.envs[0]\n",
    "env.model.opt.timestep\n",
    "env.frame_skip\n",
    "env.init_qpos"
   ]
  },
  {
   "cell_type": "code",
   "execution_count": null,
   "metadata": {},
   "outputs": [],
   "source": [
    "model = SAC(\"MlpPolicy\",\n",
    "\t\t\tenvs,\n",
    "\t\t\tverbose=0,\n",
    "\t\t\tlearning_rate=1e-3,)\n",
    "mean_reward, std_reward = evaluate_policy(model, envs, render=True, n_eval_episodes=5)"
   ]
  },
  {
   "cell_type": "code",
   "execution_count": 81,
   "metadata": {},
   "outputs": [
    {
     "name": "stdout",
     "output_type": "stream",
     "text": [
      "0.0005\n",
      "5\n",
      "[ 1.62422803e+00 -2.74737256e-02  1.00854151e+00  1.00000000e+00\n",
      "  0.00000000e+00  0.00000000e+00  0.00000000e+00  2.95267333e-01\n",
      "  2.59242753e-03  2.02006095e-01  0.00000000e+00  0.00000000e+00\n",
      "  0.00000000e+00  0.00000000e+00  3.63361699e-01 -2.26981220e-02\n",
      " -3.15269005e-01 -2.18936907e-02 -4.38871903e-02  0.00000000e+00\n",
      "  0.00000000e+00  0.00000000e+00  0.00000000e+00 -9.96320522e-03\n",
      "  0.00000000e+00  0.00000000e+00  0.00000000e+00  0.00000000e+00\n",
      "  1.67022233e-02 -8.88278765e-02 -1.42914279e-01  1.09086647e+00\n",
      "  5.59902988e-04 -1.40124351e-01 -2.78477434e-01  2.59242753e-03\n",
      " -3.36900531e-01  0.00000000e+00  0.00000000e+00  0.00000000e+00\n",
      "  0.00000000e+00 -2.70939357e-01 -1.13011241e-02  2.93565573e-01\n",
      " -9.32483825e-03  2.53505665e-01  0.00000000e+00  0.00000000e+00\n",
      "  0.00000000e+00  0.00000000e+00 -1.68676527e-01  0.00000000e+00\n",
      "  0.00000000e+00  0.00000000e+00  0.00000000e+00 -2.16439523e-01\n",
      "  1.30889901e-01  1.43935335e-01 -1.09005634e+00 -3.75825293e-04\n",
      "  1.40162701e-01]\n",
      "base\n",
      "left-hip-roll\n",
      "left-hip-yaw\n",
      "left-hip-pitch\n",
      "left-achillies-rod\n",
      "left-knee\n",
      "left-shin\n",
      "left-tarsus\n",
      "left-heel-spring\n",
      "left-toe-A\n",
      "left-toe-A-rod\n",
      "left-toe-B\n",
      "left-toe-B-rod\n",
      "left-toe-pitch\n",
      "left-toe-roll\n",
      "left-shoulder-roll\n",
      "left-shoulder-pitch\n",
      "left-shoulder-yaw\n",
      "left-elbow\n",
      "right-hip-roll\n",
      "right-hip-yaw\n",
      "right-hip-pitch\n",
      "right-achillies-rod\n",
      "right-knee\n",
      "right-shin\n",
      "right-tarsus\n",
      "right-heel-spring\n",
      "right-toe-A\n",
      "right-toe-A-rod\n",
      "right-toe-B\n",
      "right-toe-B-rod\n",
      "right-toe-pitch\n",
      "right-toe-roll\n",
      "right-shoulder-roll\n",
      "right-shoulder-pitch\n",
      "right-shoulder-yaw\n",
      "right-elbow\n",
      "[ 0  7  8  9 10 14 15 16 17 18 19 23 24 28 29 30 31 32 33 34 35 36 37 41\n",
      " 42 43 44 45 46 50 51 55 56 57 58 59 60]\n",
      "[ 0  6  7  8  9 12 13 14 15 16 17 20 21 24 25 26 27 28 29 30 31 32 33 36\n",
      " 37 38 39 40 41 44 45 48 49 50 51 52 53]\n"
     ]
    }
   ],
   "source": [
    "envs = make_vec_env(\"Digit-v1\", n_envs=1, env_kwargs={'exclude_current_positions_from_observation': False, 'render_mode': 'human'})\n",
    "env = envs.envs[0]\n",
    "print(env.model.opt.timestep)\n",
    "print(env.frame_skip)\n",
    "print(env.init_qpos)\n",
    "# Print all body names and the address in the qpos array.\n",
    "for joint_id in env.model.jnt_bodyid:\n",
    "  print(mujoco.mj_id2name(env.model, mujoco.mjtObj.mjOBJ_BODY, joint_id))\n",
    "print(env.model.jnt_qposadr)\n",
    "print(env.model.jnt_dofadr)"
   ]
  },
  {
   "cell_type": "code",
   "execution_count": null,
   "metadata": {},
   "outputs": [],
   "source": [
    "model = SAC(\"MlpPolicy\",\n",
    "\t\t\tenvs,\n",
    "\t\t\tverbose=0,\n",
    "\t\t\tlearning_rate=1e-3,)\n",
    "mean_reward, std_reward = evaluate_policy(model, envs, render=True, n_eval_episodes=1)"
   ]
  },
  {
   "cell_type": "code",
   "execution_count": null,
   "metadata": {},
   "outputs": [],
   "source": [
    "envs.close()"
   ]
  }
 ],
 "metadata": {
  "kernelspec": {
   "display_name": "Python 3",
   "language": "python",
   "name": "python3"
  },
  "language_info": {
   "codemirror_mode": {
    "name": "ipython",
    "version": 3
   },
   "file_extension": ".py",
   "mimetype": "text/x-python",
   "name": "python",
   "nbconvert_exporter": "python",
   "pygments_lexer": "ipython3",
   "version": "3.8.16"
  },
  "orig_nbformat": 4
 },
 "nbformat": 4,
 "nbformat_minor": 2
}
